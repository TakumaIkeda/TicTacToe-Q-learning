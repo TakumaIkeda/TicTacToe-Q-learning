{
 "cells": [
  {
   "cell_type": "code",
   "execution_count": 1,
   "metadata": {},
   "outputs": [],
   "source": [
    "import numpy as np\n",
    "import matplotlib.pyplot as plt"
   ]
  },
  {
   "cell_type": "code",
   "execution_count": 11,
   "metadata": {},
   "outputs": [],
   "source": [
    "class Environment:\n",
    "  state = np.zeros(3*3)\n",
    "\n",
    "  def __init__(self):\n",
    "    self.reset()\n",
    "\n",
    "  def reset(self):\n",
    "    self.state = np.zeros(3*3)\n",
    "\n",
    "  def check_turn(self):\n",
    "    return -(np.sum(self.state) * 2 - 1) # 1 for O, -1 for X\n",
    "\n",
    "  def check_valid(self, action):\n",
    "    return self.state[action] == 0\n",
    "\n",
    "  def check_winner(self):\n",
    "    for i in range(3):\n",
    "      if self.state[i] == self.state[i+3] == self.state[i+6] != 0:\n",
    "        return self.state[i]\n",
    "      if self.state[i*3] == self.state[i*3+1] == self.state[i*3+2] != 0:\n",
    "        return self.state[i*3]\n",
    "    if self.state[0] == self.state[4] == self.state[8] != 0:\n",
    "      return self.state[0]\n",
    "    if self.state[2] == self.state[4] == self.state[6] != 0:\n",
    "      return self.state[2]\n",
    "    return 0\n",
    "\n",
    "  def step(self, action) -> tuple[np.array, int, bool]:\n",
    "    \"\"\"step function\n",
    "\n",
    "    Parameters\n",
    "    ----------\n",
    "    action : int\n",
    "        action to take\n",
    "\n",
    "    Returns\n",
    "    -------\n",
    "    tuple[np.array, int, bool]\n",
    "        next state, reward, done\n",
    "    \"\"\"\n",
    "    if not self.check_valid(action):\n",
    "      return self.state, -1, True\n",
    "\n",
    "    self.state[action] = self.check_turn()\n",
    "\n",
    "\n",
    "\n",
    "  def str_state(self):\n",
    "    out = \"\"\n",
    "    for s in self.state:\n",
    "      if s == 0:\n",
    "        out += \"-\"\n",
    "      elif s == 1:\n",
    "        out += \"O\"\n",
    "      else:\n",
    "        out += \"X\"\n",
    "\n",
    "    return out"
   ]
  },
  {
   "cell_type": "code",
   "execution_count": 14,
   "metadata": {},
   "outputs": [],
   "source": [
    "class Agent:\n",
    "  env = None\n",
    "  Q = {}\n",
    "  R = {}\n",
    "  epsilon = 0.1\n",
    "\n",
    "  def __init__(self, env):\n",
    "    self.env = env\n",
    "\n",
    "  def get_action(self):\n",
    "    state = self.env.str_state()\n",
    "    if state not in self.Q:\n",
    "      self.Q[state] = np.zeros(3*3)\n",
    "      self.R[state] = np.zeros(3*3)\n",
    "\n",
    "    # epsilon greedy\n",
    "    if np.random.rand() < self.epsilon:\n",
    "      return np.random.randint(3*3)\n",
    "\n",
    "    return np.argmax(self.Q[state])"
   ]
  },
  {
   "cell_type": "code",
   "execution_count": 9,
   "metadata": {},
   "outputs": [],
   "source": [
    "def main():\n",
    "  env = Environment()\n",
    "  agent = Agent(env)\n",
    "\n",
    "  for _ in range(1000):\n",
    "    action = agent.act()\n",
    "    env.step(action)"
   ]
  },
  {
   "cell_type": "code",
   "execution_count": null,
   "metadata": {},
   "outputs": [],
   "source": []
  }
 ],
 "metadata": {
  "kernelspec": {
   "display_name": "TicTacToe-qGRSTic8",
   "language": "python",
   "name": "python3"
  },
  "language_info": {
   "codemirror_mode": {
    "name": "ipython",
    "version": 3
   },
   "file_extension": ".py",
   "mimetype": "text/x-python",
   "name": "python",
   "nbconvert_exporter": "python",
   "pygments_lexer": "ipython3",
   "version": "3.10.5"
  }
 },
 "nbformat": 4,
 "nbformat_minor": 2
}
